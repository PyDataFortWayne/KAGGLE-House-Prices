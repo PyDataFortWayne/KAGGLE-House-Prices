{
 "cells": [
  {
   "cell_type": "markdown",
   "metadata": {},
   "source": [
    "# !!!!!!! CLEAR OUTPUT BEFORE COMMIT !!!!!!\n",
    "TODO:\n",
    "- Try different models\n",
    "  - RandomForest - Done\n",
    "  - XGBoost\n",
    "  - LightGBM  \n",
    "- Check for outliers and remove?\n",
    "- Apply inflation to sale price?\n",
    "- Add heat map of correlations\n",
    "- Drop Garage Area (same information as Garage Cars)\n",
    "- Same Data Points (Keep vs Drop):\n",
    "  - Garage Cars vs Garage Area\n",
    "  - 'GrLivArea' vs 'TotRmsAbvGrd'\n",
    "- Drop Features > 15% missing\n",
    "  - Drop BsmntX\n",
    "  - Drop MasnVnrX\n",
    "  - Drop GarageX Not Cars\n",
    "  - Drop 1 record missing electical\n",
    "- saleprice_scaled = StandardScaler().fit_transform(df_train['SalePrice'][:,np.newaxis]);\n",
    "  - Look at two outlier values > 7 - Drop?\n",
    "- Scatter plot SalePrice vs GrLivArea\n",
    "  - Drop two outlier observations\n",
    "- Log on GrLivArea"
   ]
  },
  {
   "cell_type": "code",
   "execution_count": null,
   "metadata": {},
   "outputs": [],
   "source": [
    "import pandas as pd\n",
    "import numpy as np\n",
    "import os\n",
    "\n",
    "from datetime import datetime\n",
    "\n",
    "import matplotlib.pyplot as plt\n",
    "%matplotlib inline"
   ]
  },
  {
   "cell_type": "code",
   "execution_count": null,
   "metadata": {},
   "outputs": [],
   "source": [
    "def one_hot_encode(df, col_name_list):\n",
    "    #for col_name in col_name_list:\n",
    "    #    df = pd.concat((df, pd.get_dummies(df[col_name], prefix=col_name)), axis='columns')\n",
    "    df.drop(columns=col_name_list, inplace=True)\n",
    "    return df\n",
    "\n",
    "def a_f_ohe(df, column_name, one_hot_encode_list):\n",
    "    if not one_hot_encode_list:\n",
    "        one_hot_encode_list = []\n",
    "    #df[column_name] = column_name + df[column_name].astype(str)\n",
    "    if not column_name in one_hot_encode_list:\n",
    "        one_hot_encode_list = one_hot_encode_list + [column_name]\n",
    "    return one_hot_encode_list\n",
    "\n",
    "def calculate_ages(df):\n",
    "    df['SaleDate'] = df['YrSold'].astype(str) + '-' + df['MoSold'].astype(str)\n",
    "    df['SaleDate'] = pd.to_datetime(df['SaleDate'], format='%Y-%m')\n",
    "    \n",
    "    # YrSold\n",
    "    df['SaleAge'] = (df['SaleDate'].dt.year + df['SaleDate'].dt.month / 12) - \\\n",
    "        (df['YrSold'].astype(float) + df['MoSold'].astype(float) / 12)\n",
    "    del df['YrSold']\n",
    "    \n",
    "    # YearBuilt\n",
    "    df['Age'] = df['SaleDate'].dt.year - df['YearBuilt']\n",
    "    del df['YearBuilt']\n",
    "    \n",
    "    # YearRemodAdd\n",
    "    df['RemodelAge'] = df['SaleDate'].dt.year - df['YearRemodAdd']\n",
    "    del df['YearRemodAdd']\n",
    "    \n",
    "    # GarageYrBlt\n",
    "    df['GarageAge'] = df['SaleDate'].dt.year - df['GarageYrBlt']\n",
    "    del df['GarageYrBlt']\n",
    "    \n",
    "    # we are done using this field and it is not numeric, which causes issues with sklearn\n",
    "    del df['SaleDate']\n",
    "    return df\n",
    "\n",
    "def impute_lot_frontage(df):\n",
    "    avg_ratio = (df['LotFrontage'] / df['LotArea']).mean()\n",
    "    df['LotFrontage'] = df['LotFrontage'].fillna(df['LotArea'] * avg_ratio)\n",
    "    return df\n",
    "\n",
    "def process_df(df, ohe_list):\n",
    "    df['CentralAir'] = df['CentralAir'].map({'Y':1,'N':0}).astype(int)\n",
    "    \n",
    "    mask = df['MasVnrType'] == 'None'\n",
    "    df.loc[mask, 'MasVnrType'] = np.NAN\n",
    "    \n",
    "    mask = df['MasVnrType'].isnull()\n",
    "    df.loc[mask, 'MasVnrArea'] = 0.0\n",
    "    df['MasVnrArea'].fillna(0.0, inplace=True)\n",
    "\n",
    "    mask = df['GarageYrBlt'].isnull()\n",
    "    df.loc[mask, 'GarageYrBlt'] = df.loc[mask, 'YearBuilt']\n",
    "    \n",
    "    df = calculate_ages(df)\n",
    "    df = impute_lot_frontage(df)\n",
    "    df = one_hot_encode(df, ohe_list)\n",
    "    if 'SalePrice' in df.columns.values:\n",
    "        df['SalePrice'] = np.log(df['SalePrice'])\n",
    "    return df"
   ]
  },
  {
   "cell_type": "code",
   "execution_count": null,
   "metadata": {},
   "outputs": [],
   "source": [
    "df = pd.read_csv(os.path.join('data','train.csv'))"
   ]
  },
  {
   "cell_type": "code",
   "execution_count": null,
   "metadata": {},
   "outputs": [],
   "source": [
    "pd.options.display.max_columns = 1000\n",
    "pd.options.display.max_rows = 1000\n",
    "df.head()"
   ]
  },
  {
   "cell_type": "markdown",
   "metadata": {},
   "source": [
    "How many records are we dealing with?"
   ]
  },
  {
   "cell_type": "code",
   "execution_count": null,
   "metadata": {},
   "outputs": [],
   "source": [
    "len(df.index)"
   ]
  },
  {
   "cell_type": "markdown",
   "metadata": {},
   "source": [
    "Because of the small size of the training and testing datasets we don't need to worry about converting data types to smaller sizes to conserve space."
   ]
  },
  {
   "cell_type": "markdown",
   "metadata": {},
   "source": [
    "What data types are we dealing with?"
   ]
  },
  {
   "cell_type": "code",
   "execution_count": null,
   "metadata": {},
   "outputs": [],
   "source": [
    "df.dtypes"
   ]
  },
  {
   "cell_type": "markdown",
   "metadata": {},
   "source": [
    "Let's take a look at the different features and get some simple summary statistics"
   ]
  },
  {
   "cell_type": "code",
   "execution_count": null,
   "metadata": {},
   "outputs": [],
   "source": [
    "df['1stFlrSF'].describe()"
   ]
  },
  {
   "cell_type": "code",
   "execution_count": null,
   "metadata": {},
   "outputs": [],
   "source": [
    "df['MSSubClass'].value_counts()"
   ]
  },
  {
   "cell_type": "markdown",
   "metadata": {},
   "source": [
    "Which fields have null values?"
   ]
  },
  {
   "cell_type": "code",
   "execution_count": null,
   "metadata": {},
   "outputs": [],
   "source": [
    "df_nulls = df.copy().isnull().sum()\n",
    "df_nulls = df_nulls.to_frame().rename(columns={0:'num_nulls'})\n",
    "df_nulls['total_records'] = len(df.index)\n",
    "df_nulls['pct_null'] = df_nulls['num_nulls'] / df_nulls['total_records'] * 100\n",
    "df_nulls[df_nulls['num_nulls'] > 0].sort_values(by='pct_null', ascending=False)"
   ]
  },
  {
   "cell_type": "markdown",
   "metadata": {},
   "source": [
    "Wow, the PoolQC (Pool Quality) is almost always empty. Is this because:\n",
    "- Most of the houses have no pools?\n",
    "- How many houses have pools but no quality value?"
   ]
  },
  {
   "cell_type": "code",
   "execution_count": null,
   "metadata": {},
   "outputs": [],
   "source": [
    "df.loc[df['PoolArea'] > 0, ['PoolQC','PoolArea']]"
   ]
  },
  {
   "cell_type": "markdown",
   "metadata": {},
   "source": [
    "There are no pools without a quality rating."
   ]
  },
  {
   "cell_type": "code",
   "execution_count": null,
   "metadata": {},
   "outputs": [],
   "source": [
    "df.loc[~df['PoolQC'].isnull(), ['PoolQC','PoolArea']]"
   ]
  },
  {
   "cell_type": "markdown",
   "metadata": {},
   "source": [
    "This shows us that only 7 houses had a pool and no pool quality records exist where there is no pool (pool area = 0)\n",
    "\n",
    "Pools normally represent a small amount of houses so it's important to keep this around rather than attempting to just drop it since there are so few records.\n",
    "\n",
    "To handle these we can One Hot Encode (pd.get_dummies) for the pool quality values. Any house without a pool will have 0 for all the quality measurements to work around the null values in the pool quality feature."
   ]
  },
  {
   "cell_type": "markdown",
   "metadata": {},
   "source": [
    "If we're doing something similar to the PoolQC we should explicitly show it like we did with PoolQC"
   ]
  },
  {
   "cell_type": "code",
   "execution_count": null,
   "metadata": {},
   "outputs": [],
   "source": [
    "ohe_list = [] #['PoolQC','Alley','Fence','MiscFeature']"
   ]
  },
  {
   "cell_type": "markdown",
   "metadata": {},
   "source": [
    "**MSSubClass:** Identifies the type of dwelling involved in the sale."
   ]
  },
  {
   "cell_type": "code",
   "execution_count": null,
   "metadata": {},
   "outputs": [],
   "source": [
    "# Prefix the categories so they make a bit more sense when we OHE them.\n",
    "# Initially it's imported as a number so we'll force it to be a string\n",
    "ohe_list = a_f_ohe(df, 'MSSubClass', ohe_list)"
   ]
  },
  {
   "cell_type": "markdown",
   "metadata": {},
   "source": [
    "**MSZoning:** Identifies the general zoning classification of the sale."
   ]
  },
  {
   "cell_type": "code",
   "execution_count": null,
   "metadata": {},
   "outputs": [],
   "source": [
    "ohe_list = a_f_ohe(df, 'MSZoning', ohe_list)"
   ]
  },
  {
   "cell_type": "markdown",
   "metadata": {},
   "source": [
    "**LotFrontage:** Linear feet of street connected to property\n",
    "\n",
    "Nothing to do here. This is a simple number. Perhaps scale?"
   ]
  },
  {
   "cell_type": "markdown",
   "metadata": {},
   "source": [
    "**Street:** Type of road access to property"
   ]
  },
  {
   "cell_type": "code",
   "execution_count": null,
   "metadata": {},
   "outputs": [],
   "source": [
    "ohe_list = a_f_ohe(df, 'Street', ohe_list)"
   ]
  },
  {
   "cell_type": "markdown",
   "metadata": {},
   "source": [
    "**Alley:** Type of alley access to property"
   ]
  },
  {
   "cell_type": "code",
   "execution_count": null,
   "metadata": {},
   "outputs": [],
   "source": [
    "ohe_list = a_f_ohe(df, 'Alley', ohe_list)"
   ]
  },
  {
   "cell_type": "markdown",
   "metadata": {},
   "source": [
    "**LotShape:** General shape of property"
   ]
  },
  {
   "cell_type": "code",
   "execution_count": null,
   "metadata": {},
   "outputs": [],
   "source": [
    "ohe_list = a_f_ohe(df, 'LotShape', ohe_list)"
   ]
  },
  {
   "cell_type": "markdown",
   "metadata": {},
   "source": [
    "**LandContour:** Flatness of the property"
   ]
  },
  {
   "cell_type": "code",
   "execution_count": null,
   "metadata": {},
   "outputs": [],
   "source": [
    "ohe_list = a_f_ohe(df, 'LandContour', ohe_list)"
   ]
  },
  {
   "cell_type": "markdown",
   "metadata": {},
   "source": [
    "**Utilities:** Type of utilities available"
   ]
  },
  {
   "cell_type": "code",
   "execution_count": null,
   "metadata": {},
   "outputs": [],
   "source": [
    "ohe_list = a_f_ohe(df, 'Utilities', ohe_list)"
   ]
  },
  {
   "cell_type": "markdown",
   "metadata": {},
   "source": [
    "**LotConfig:** Lot configuration"
   ]
  },
  {
   "cell_type": "code",
   "execution_count": null,
   "metadata": {},
   "outputs": [],
   "source": [
    "ohe_list = a_f_ohe(df, 'LotConfig', ohe_list)"
   ]
  },
  {
   "cell_type": "markdown",
   "metadata": {},
   "source": [
    "**LandSlope:** Slope of property"
   ]
  },
  {
   "cell_type": "code",
   "execution_count": null,
   "metadata": {},
   "outputs": [],
   "source": [
    "ohe_list = a_f_ohe(df, 'LandSlope', ohe_list)"
   ]
  },
  {
   "cell_type": "markdown",
   "metadata": {},
   "source": [
    "**Neighborhood:** Physical locations within Ames city limits"
   ]
  },
  {
   "cell_type": "code",
   "execution_count": null,
   "metadata": {},
   "outputs": [],
   "source": [
    "ohe_list = a_f_ohe(df, 'Neighborhood', ohe_list)"
   ]
  },
  {
   "cell_type": "markdown",
   "metadata": {},
   "source": [
    "**Condition1:** Proximity to various conditions\n",
    "\n",
    "Are these mutually exclusive values? They appear so."
   ]
  },
  {
   "cell_type": "code",
   "execution_count": null,
   "metadata": {},
   "outputs": [],
   "source": [
    "df['Condition1'].value_counts()"
   ]
  },
  {
   "cell_type": "code",
   "execution_count": null,
   "metadata": {},
   "outputs": [],
   "source": [
    "ohe_list = a_f_ohe(df, 'Condition1', ohe_list)"
   ]
  },
  {
   "cell_type": "markdown",
   "metadata": {},
   "source": [
    "**Condition2:** Proximity to various conditions (if more than one is present)"
   ]
  },
  {
   "cell_type": "code",
   "execution_count": null,
   "metadata": {},
   "outputs": [],
   "source": [
    "df['Condition2'].value_counts()"
   ]
  },
  {
   "cell_type": "code",
   "execution_count": null,
   "metadata": {},
   "outputs": [],
   "source": [
    "ohe_list = a_f_ohe(df, 'Condition2', ohe_list)"
   ]
  },
  {
   "cell_type": "markdown",
   "metadata": {},
   "source": [
    "**BldgType:** Type of dwelling"
   ]
  },
  {
   "cell_type": "code",
   "execution_count": null,
   "metadata": {},
   "outputs": [],
   "source": [
    "ohe_list = a_f_ohe(df, 'BldgType', ohe_list)"
   ]
  },
  {
   "cell_type": "markdown",
   "metadata": {},
   "source": [
    "**HouseStyle:** Style of dwelling"
   ]
  },
  {
   "cell_type": "code",
   "execution_count": null,
   "metadata": {},
   "outputs": [],
   "source": [
    "ohe_list = a_f_ohe(df, 'HouseStyle', ohe_list)"
   ]
  },
  {
   "cell_type": "markdown",
   "metadata": {},
   "source": [
    "**OverallQual:** Rates the overall material and finish of the house\n",
    "\n",
    "Rating between 1 and 10 (Very Poor and Very Excellent) - Since this is numeric and has a natural relationship we'll leave alone."
   ]
  },
  {
   "cell_type": "markdown",
   "metadata": {},
   "source": [
    "**OverallCond:** Rates the overall condition of the house\n",
    "\n",
    "Rating between 1 and 10 (Very Poor and Very Excellent) - Since this is numeric and has a natural relationship we'll leave alone."
   ]
  },
  {
   "cell_type": "markdown",
   "metadata": {},
   "source": [
    "**YearBuilt:** Original construction date\n",
    "\n",
    "Convert this to be the ages in full years.\n",
    "\n",
    "This is done within the calculate_ages to apply it to the train and test sets the same way."
   ]
  },
  {
   "cell_type": "markdown",
   "metadata": {},
   "source": [
    "**YearRemodAdd:** Remodel date (same as construction date if no remodeling or additions)\n",
    "\n",
    "This is the same process as the YearBuilt"
   ]
  },
  {
   "cell_type": "markdown",
   "metadata": {},
   "source": [
    "**RoofStyle:** Type of roof"
   ]
  },
  {
   "cell_type": "code",
   "execution_count": null,
   "metadata": {},
   "outputs": [],
   "source": [
    "ohe_list = a_f_ohe(df, 'RoofStyle', ohe_list)"
   ]
  },
  {
   "cell_type": "markdown",
   "metadata": {},
   "source": [
    "**RoofMatl:** Roof material"
   ]
  },
  {
   "cell_type": "code",
   "execution_count": null,
   "metadata": {},
   "outputs": [],
   "source": [
    "ohe_list = a_f_ohe(df, 'RoofMatl', ohe_list)"
   ]
  },
  {
   "cell_type": "markdown",
   "metadata": {},
   "source": [
    "**Exterior1st:** Exterior covering on house"
   ]
  },
  {
   "cell_type": "code",
   "execution_count": null,
   "metadata": {},
   "outputs": [],
   "source": [
    "ohe_list = a_f_ohe(df, 'Exterior1st', ohe_list)"
   ]
  },
  {
   "cell_type": "markdown",
   "metadata": {},
   "source": [
    "**Exterior2nd:** Exterior covering on house (if more than one material)"
   ]
  },
  {
   "cell_type": "code",
   "execution_count": null,
   "metadata": {},
   "outputs": [],
   "source": [
    "ohe_list = a_f_ohe(df, 'Exterior2nd', ohe_list)"
   ]
  },
  {
   "cell_type": "markdown",
   "metadata": {},
   "source": [
    "**MasVnrType:** Masonry veneer type\n",
    "\n",
    "Convert None values to NaN, OHE the rest"
   ]
  },
  {
   "cell_type": "code",
   "execution_count": null,
   "metadata": {},
   "outputs": [],
   "source": [
    "mask = df['MasVnrType'] == 'None'\n",
    "df.loc[mask, 'MasVnrType'] = np.NAN\n",
    "ohe_list = a_f_ohe(df, 'MasVnrType', ohe_list)"
   ]
  },
  {
   "cell_type": "markdown",
   "metadata": {},
   "source": [
    "**MasVnrArea:** Masonry veneer area in square feet\n",
    "\n",
    "When MasVnrType is NaN, there a few (5) rows where the area is greater than zero. We are going to assume the area is supposed to be zero when there is no masonry veneer."
   ]
  },
  {
   "cell_type": "code",
   "execution_count": null,
   "metadata": {},
   "outputs": [],
   "source": [
    "mask = df['MasVnrType'].isnull()\n",
    "df[mask]['MasVnrArea'].value_counts()"
   ]
  },
  {
   "cell_type": "code",
   "execution_count": null,
   "metadata": {},
   "outputs": [],
   "source": [
    "df.loc[mask, 'MasVnrArea'] = 0.0\n",
    "df['MasVnrArea'].fillna(0.0, inplace=True)"
   ]
  },
  {
   "cell_type": "markdown",
   "metadata": {},
   "source": [
    "**ExterQual:** Evaluates the quality of the material on the exterior"
   ]
  },
  {
   "cell_type": "code",
   "execution_count": null,
   "metadata": {},
   "outputs": [],
   "source": [
    "ohe_list = a_f_ohe(df, 'ExterQual', ohe_list)"
   ]
  },
  {
   "cell_type": "markdown",
   "metadata": {},
   "source": [
    "**ExterQual:** Evaluates the quality of the material on the exterior"
   ]
  },
  {
   "cell_type": "code",
   "execution_count": null,
   "metadata": {},
   "outputs": [],
   "source": [
    "ohe_list = a_f_ohe(df, 'ExterQual', ohe_list)"
   ]
  },
  {
   "cell_type": "markdown",
   "metadata": {},
   "source": [
    "**ExterCond:** Evaluates the present condition of the material on the exterior"
   ]
  },
  {
   "cell_type": "code",
   "execution_count": null,
   "metadata": {},
   "outputs": [],
   "source": [
    "ohe_list = a_f_ohe(df, 'ExterCond', ohe_list)"
   ]
  },
  {
   "cell_type": "markdown",
   "metadata": {},
   "source": [
    "**Foundation:** Type of foundation"
   ]
  },
  {
   "cell_type": "code",
   "execution_count": null,
   "metadata": {},
   "outputs": [],
   "source": [
    "ohe_list = a_f_ohe(df, 'Foundation', ohe_list)"
   ]
  },
  {
   "cell_type": "markdown",
   "metadata": {},
   "source": [
    "**BsmtQual:** Evaluates the height of the basement"
   ]
  },
  {
   "cell_type": "code",
   "execution_count": null,
   "metadata": {},
   "outputs": [],
   "source": [
    "ohe_list = a_f_ohe(df, 'BsmtQual', ohe_list)"
   ]
  },
  {
   "cell_type": "markdown",
   "metadata": {},
   "source": [
    "**BsmtCond:** Evaluates the general condition of the basement"
   ]
  },
  {
   "cell_type": "code",
   "execution_count": null,
   "metadata": {},
   "outputs": [],
   "source": [
    "ohe_list = a_f_ohe(df, 'BsmtCond', ohe_list)"
   ]
  },
  {
   "cell_type": "markdown",
   "metadata": {},
   "source": [
    "**BsmtExposure:** Refers to walkout or garden level walls"
   ]
  },
  {
   "cell_type": "code",
   "execution_count": null,
   "metadata": {},
   "outputs": [],
   "source": [
    "ohe_list = a_f_ohe(df, 'BsmtExposure', ohe_list)"
   ]
  },
  {
   "cell_type": "markdown",
   "metadata": {},
   "source": [
    "**BsmtFinType1:** Rating of basement finished area"
   ]
  },
  {
   "cell_type": "code",
   "execution_count": null,
   "metadata": {},
   "outputs": [],
   "source": [
    "ohe_list = a_f_ohe(df, 'BsmtFinType1', ohe_list)"
   ]
  },
  {
   "cell_type": "markdown",
   "metadata": {},
   "source": [
    "**BsmtFinSF1:** Type 1 finished square feet\n",
    "Numeric field. Perhaps Scale?"
   ]
  },
  {
   "cell_type": "markdown",
   "metadata": {},
   "source": [
    "**BsmtFinType2:** Rating of basement finished area (if multiple types)"
   ]
  },
  {
   "cell_type": "code",
   "execution_count": null,
   "metadata": {},
   "outputs": [],
   "source": [
    "ohe_list = a_f_ohe(df, 'BsmtFinType2', ohe_list)"
   ]
  },
  {
   "cell_type": "markdown",
   "metadata": {},
   "source": [
    "**BsmtFinSF2:** Type 2 finished square feet\n",
    "\n",
    "Number - Scale?"
   ]
  },
  {
   "cell_type": "markdown",
   "metadata": {},
   "source": [
    "**BsmtUnfSF:** Unfinished square feet of basement area\n",
    "\n",
    "Number - scale?"
   ]
  },
  {
   "cell_type": "markdown",
   "metadata": {},
   "source": [
    "**TotalBsmtSF:** Total square feet of basement area\n",
    "\n",
    "Number - Scale?"
   ]
  },
  {
   "cell_type": "markdown",
   "metadata": {},
   "source": [
    "**Heating:** Type of heating"
   ]
  },
  {
   "cell_type": "code",
   "execution_count": null,
   "metadata": {},
   "outputs": [],
   "source": [
    "ohe_list = a_f_ohe(df, 'Heating', ohe_list)"
   ]
  },
  {
   "cell_type": "markdown",
   "metadata": {},
   "source": [
    "**HeatingQC:** Heating quality and condition"
   ]
  },
  {
   "cell_type": "code",
   "execution_count": null,
   "metadata": {},
   "outputs": [],
   "source": [
    "ohe_list = a_f_ohe(df, 'HeatingQC', ohe_list)"
   ]
  },
  {
   "cell_type": "markdown",
   "metadata": {},
   "source": [
    "**CentralAir:** Central air conditioning\n",
    "\n",
    "Boolean. Convery Y/N to 1/0"
   ]
  },
  {
   "cell_type": "code",
   "execution_count": null,
   "metadata": {},
   "outputs": [],
   "source": [
    "df['CentralAir'] = df['CentralAir'].map({'Y':1,'N':0}).astype(int)"
   ]
  },
  {
   "cell_type": "markdown",
   "metadata": {},
   "source": [
    "**Electrical:** Electrical system"
   ]
  },
  {
   "cell_type": "code",
   "execution_count": null,
   "metadata": {},
   "outputs": [],
   "source": [
    "ohe_list = a_f_ohe(df, 'Electrical', ohe_list)"
   ]
  },
  {
   "cell_type": "markdown",
   "metadata": {},
   "source": [
    "**1stFlrSF:** First Floor square feet\n",
    "\n",
    "**2ndFlrSF:** Second floor square feet\n",
    " \n",
    "**LowQualFinSF:** Low quality finished square feet (all floors)\n",
    " \n",
    "**GrLivArea:** Above grade (ground) living area square feet\n",
    " \n",
    "**BsmtFullBath:** Basement full bathrooms\n",
    " \n",
    "**BsmtHalfBath:** Basement half bathrooms\n",
    " \n",
    "**FullBath:** Full bathrooms above grade\n",
    " \n",
    "**HalfBath:** Half baths above grade\n",
    " \n",
    "**Bedroom:** Bedrooms above grade (does NOT include basement bedrooms)\n",
    " \n",
    "**Kitchen:** Kitchens above grade\n",
    "\n",
    "All numerical - not much to do here. Probably scale?"
   ]
  },
  {
   "cell_type": "markdown",
   "metadata": {},
   "source": [
    "**KitchenQual:** Kitchen quality"
   ]
  },
  {
   "cell_type": "code",
   "execution_count": null,
   "metadata": {},
   "outputs": [],
   "source": [
    "ohe_list = a_f_ohe(df, 'KitchenQual', ohe_list)"
   ]
  },
  {
   "cell_type": "markdown",
   "metadata": {},
   "source": [
    "**TotRmsAbvGrd:** Total rooms above grade (does not include bathrooms)\n",
    "\n",
    "Number - not much to do here. Scale?"
   ]
  },
  {
   "cell_type": "markdown",
   "metadata": {},
   "source": [
    "**Functional:** Home functionality (Assume typical unless deductions are warranted)"
   ]
  },
  {
   "cell_type": "code",
   "execution_count": null,
   "metadata": {},
   "outputs": [],
   "source": [
    "ohe_list = a_f_ohe(df, 'Functional', ohe_list)"
   ]
  },
  {
   "cell_type": "markdown",
   "metadata": {},
   "source": [
    "**Fireplaces:** Number of fireplaces\n",
    "\n",
    "Number, not much to do. Scale?"
   ]
  },
  {
   "cell_type": "markdown",
   "metadata": {},
   "source": [
    "**FireplaceQu:** Fireplace quality"
   ]
  },
  {
   "cell_type": "code",
   "execution_count": null,
   "metadata": {},
   "outputs": [],
   "source": [
    "ohe_list = a_f_ohe(df, 'FireplaceQu', ohe_list)"
   ]
  },
  {
   "cell_type": "markdown",
   "metadata": {},
   "source": [
    "**GarageType:** Garage location"
   ]
  },
  {
   "cell_type": "code",
   "execution_count": null,
   "metadata": {},
   "outputs": [],
   "source": [
    "ohe_list = a_f_ohe(df, 'GarageType', ohe_list)"
   ]
  },
  {
   "cell_type": "markdown",
   "metadata": {},
   "source": [
    "**GarageYrBlt**: Year garage was built\n",
    "\n",
    "Year - Convert to Age in years.\n",
    "\n",
    "This is done within the calculate_ages function to apply to the train and test data sets the same way"
   ]
  },
  {
   "cell_type": "code",
   "execution_count": null,
   "metadata": {},
   "outputs": [],
   "source": [
    "mask = df['GarageYrBlt'].isnull()\n",
    "df.loc[mask, 'GarageYrBlt'] = df.loc[mask, 'YearBuilt'] "
   ]
  },
  {
   "cell_type": "markdown",
   "metadata": {},
   "source": [
    "**GarageFinish:** Interior finish of the garage"
   ]
  },
  {
   "cell_type": "code",
   "execution_count": null,
   "metadata": {},
   "outputs": [],
   "source": [
    "ohe_list = a_f_ohe(df, 'GarageFinish', ohe_list)"
   ]
  },
  {
   "cell_type": "markdown",
   "metadata": {},
   "source": [
    "**GarageCars:** Size of garage in car capacity\n",
    " \n",
    "**GarageArea:** Size of garage in square feet\n",
    "\n",
    "Numeric fields - scale?"
   ]
  },
  {
   "cell_type": "markdown",
   "metadata": {},
   "source": [
    "**GarageQual:** Garage quality"
   ]
  },
  {
   "cell_type": "code",
   "execution_count": null,
   "metadata": {},
   "outputs": [],
   "source": [
    "ohe_list = a_f_ohe(df, 'GarageQual', ohe_list)"
   ]
  },
  {
   "cell_type": "markdown",
   "metadata": {},
   "source": [
    "**GarageCond:** Garage condition"
   ]
  },
  {
   "cell_type": "code",
   "execution_count": null,
   "metadata": {},
   "outputs": [],
   "source": [
    "ohe_list = a_f_ohe(df, 'GarageCond', ohe_list)"
   ]
  },
  {
   "cell_type": "markdown",
   "metadata": {},
   "source": [
    "**PavedDrive:** Paved driveway"
   ]
  },
  {
   "cell_type": "code",
   "execution_count": null,
   "metadata": {},
   "outputs": [],
   "source": [
    "ohe_list = a_f_ohe(df, 'PavedDrive', ohe_list)"
   ]
  },
  {
   "cell_type": "markdown",
   "metadata": {},
   "source": [
    "**WoodDeckSF:** Wood deck area in square feet\n",
    " \n",
    "**OpenPorchSF:** Open porch area in square feet\n",
    " \n",
    "**EnclosedPorch:** Enclosed porch area in square feet\n",
    " \n",
    "**3SsnPorch:** Three season porch area in square feet\n",
    " \n",
    "**ScreenPorch:** Screen porch area in square feet\n",
    " \n",
    "**PoolArea:** Pool area in square feet\n",
    "\n",
    "Numeric, nothing to do."
   ]
  },
  {
   "cell_type": "markdown",
   "metadata": {},
   "source": [
    "**PoolQC:** Pool quality"
   ]
  },
  {
   "cell_type": "code",
   "execution_count": null,
   "metadata": {},
   "outputs": [],
   "source": [
    "ohe_list = a_f_ohe(df, 'PoolQC', ohe_list)"
   ]
  },
  {
   "cell_type": "markdown",
   "metadata": {},
   "source": [
    "**Fence:** Fence quality"
   ]
  },
  {
   "cell_type": "code",
   "execution_count": null,
   "metadata": {},
   "outputs": [],
   "source": [
    "ohe_list = a_f_ohe(df, 'Fence', ohe_list)"
   ]
  },
  {
   "cell_type": "markdown",
   "metadata": {},
   "source": [
    "**MiscFeature:** Miscellaneous feature not covered in other categories"
   ]
  },
  {
   "cell_type": "code",
   "execution_count": null,
   "metadata": {},
   "outputs": [],
   "source": [
    "ohe_list = a_f_ohe(df, 'MiscFeature', ohe_list)"
   ]
  },
  {
   "cell_type": "markdown",
   "metadata": {},
   "source": [
    "**MiscVal:** $Value of miscellaneous feature\n",
    "\n",
    "Numeric - Nothing to do"
   ]
  },
  {
   "cell_type": "markdown",
   "metadata": {},
   "source": [
    "**YrSold:** Year Sold (YYYY)\n",
    "\n",
    "This is done within the calculate_ages function to apply to the train and test datasets the same way."
   ]
  },
  {
   "cell_type": "markdown",
   "metadata": {},
   "source": [
    "**MoSold:** Month Sold (MM)"
   ]
  },
  {
   "cell_type": "code",
   "execution_count": null,
   "metadata": {},
   "outputs": [],
   "source": [
    "ohe_list = a_f_ohe(df, 'MoSold', ohe_list)"
   ]
  },
  {
   "cell_type": "markdown",
   "metadata": {},
   "source": [
    "**SaleType:** Type of sale"
   ]
  },
  {
   "cell_type": "code",
   "execution_count": null,
   "metadata": {},
   "outputs": [],
   "source": [
    "ohe_list = a_f_ohe(df, 'SaleType', ohe_list)"
   ]
  },
  {
   "cell_type": "markdown",
   "metadata": {},
   "source": [
    "**SaleCondition:** Condition of sale"
   ]
  },
  {
   "cell_type": "code",
   "execution_count": null,
   "metadata": {},
   "outputs": [],
   "source": [
    "ohe_list = a_f_ohe(df, 'SaleCondition', ohe_list)"
   ]
  },
  {
   "cell_type": "markdown",
   "metadata": {},
   "source": [
    "### Transform / Prepare the DataFrame"
   ]
  },
  {
   "cell_type": "code",
   "execution_count": null,
   "metadata": {},
   "outputs": [],
   "source": [
    "df = calculate_ages(df)\n",
    "df = one_hot_encode(df, ohe_list)"
   ]
  },
  {
   "cell_type": "markdown",
   "metadata": {},
   "source": [
    "How many columns do we have?"
   ]
  },
  {
   "cell_type": "code",
   "execution_count": null,
   "metadata": {},
   "outputs": [],
   "source": [
    "len(df.columns)"
   ]
  },
  {
   "cell_type": "markdown",
   "metadata": {},
   "source": [
    "Will this be too many columns or will our model function well enough as is? We might need to come back and re-evaulate all of the features within our dataset. Perhaps we might need to perform some Principal Component Analysis (PCA) to reduce our feature space."
   ]
  },
  {
   "cell_type": "markdown",
   "metadata": {},
   "source": [
    "## Scale the data\n",
    "Since all of our data elements are now processed we need to scale our data so that every feature is on the same scale and we don't have certain features overly affecting the model.\n",
    "\n",
    "StandardScaler requires data to not contain any NaN values. Let's take a look to see which columns have NaN values and determine how to handle them."
   ]
  },
  {
   "cell_type": "code",
   "execution_count": null,
   "metadata": {},
   "outputs": [],
   "source": [
    "df.count()[df.count() != len(df.index)]"
   ]
  },
  {
   "cell_type": "markdown",
   "metadata": {},
   "source": [
    "If we drop the NaN values from the dataset which we'd lose 17.74% of our data which is too much and the fact that we have a smaller dataset."
   ]
  },
  {
   "cell_type": "code",
   "execution_count": null,
   "metadata": {},
   "outputs": [],
   "source": [
    "df['LotFrontage'].agg([min, max])"
   ]
  },
  {
   "cell_type": "code",
   "execution_count": null,
   "metadata": {},
   "outputs": [],
   "source": [
    "df['LotFrontage'].hist(bins=10)"
   ]
  },
  {
   "cell_type": "markdown",
   "metadata": {},
   "source": [
    "Based on this histogram we can see there's a few outlier values which would skew the mean so using the mean might not be the best choice in this case."
   ]
  },
  {
   "cell_type": "code",
   "execution_count": null,
   "metadata": {},
   "outputs": [],
   "source": [
    "la = df['LotArea'] ** 0.5\n",
    "la.hist(bins=10)"
   ]
  },
  {
   "cell_type": "code",
   "execution_count": null,
   "metadata": {},
   "outputs": [],
   "source": [
    "x = df['LotFrontage'] / df['LotArea']\n",
    "x.hist()"
   ]
  },
  {
   "cell_type": "markdown",
   "metadata": {},
   "source": [
    "We still have large outliers that would affect the average. What we'll do is just take the mean of the ratios under 0.015 and then multiply the lot area by this value to get the missing lot frontage.\n",
    "\n",
    "\n",
    "But what is the median which isn't as adversely affected by the outliers?"
   ]
  },
  {
   "cell_type": "code",
   "execution_count": null,
   "metadata": {},
   "outputs": [],
   "source": [
    "df['LotFrontage'].median()"
   ]
  },
  {
   "cell_type": "markdown",
   "metadata": {},
   "source": [
    "Let's take a quick and dirty look at the amount of LotFrontage if we use the ratio method."
   ]
  },
  {
   "cell_type": "code",
   "execution_count": null,
   "metadata": {},
   "outputs": [],
   "source": [
    "df_copy = df.loc[df['LotFrontage'].isnull(), 'LotArea'].copy().to_frame()\n",
    "df_copy['LotFrontage'] = 0.007 * df['LotArea']\n",
    "df_copy"
   ]
  },
  {
   "cell_type": "markdown",
   "metadata": {},
   "source": [
    "As we can see there are a lot of larger lots which might skew the data if we used the median method."
   ]
  },
  {
   "cell_type": "code",
   "execution_count": null,
   "metadata": {},
   "outputs": [],
   "source": [
    "df = impute_lot_frontage(df)\n",
    "df.head(n=20)"
   ]
  },
  {
   "cell_type": "code",
   "execution_count": null,
   "metadata": {},
   "outputs": [],
   "source": [
    "# Sale Price\n",
    "from scipy.stats import boxcox\n",
    "\n",
    "xt, maxlog = boxcox(df['SalePrice'])\n",
    "print(\"lambda = {:g}\".format(maxlog))"
   ]
  },
  {
   "cell_type": "markdown",
   "metadata": {},
   "source": [
    "The Box-Cox test quickly and easily tells us if  we need to perform a transform on our data or not by telling us a lambda value:\n",
    "* -1. is a reciprocal\n",
    "* -.5 is a recriprocal square root\n",
    "* 0.0 is a log transformation\n",
    "* .5 is a square toot transform and\n",
    "* 1.0 is no transform.\n",
    "\n",
    "Since ours closest to 0 we need to perform a log transform on the sale price."
   ]
  },
  {
   "cell_type": "code",
   "execution_count": null,
   "metadata": {},
   "outputs": [],
   "source": [
    "df['SalePrice'] = np.log(df['SalePrice'])"
   ]
  },
  {
   "cell_type": "code",
   "execution_count": null,
   "metadata": {},
   "outputs": [],
   "source": [
    "# Use a standard scaler to remove the mean and \n",
    "# make the standard deviation 1 for all of our features\n",
    "# It will give us a range between 0 and 1\n",
    "from sklearn.preprocessing import StandardScaler\n",
    "\n",
    "# Using the defaults:\n",
    "# - copy = True - Inplace / False doesn't always work\n",
    "# - with_mean = True - May cause problems with a sparse matrix. We're going to try it as is and see how it fares\n",
    "# - - Sparse matrix is a matrix where most feature values are 0\n",
    "# - - - In our case we one hot encoded a lot of columns so we have a lot of 0 values\n",
    "# - with_std = True - Scale with a single standard deviation\n",
    "scaler = StandardScaler()\n",
    "train_df = pd.read_csv(os.path.join('data','train.csv'))\n",
    "test_df = pd.read_csv(os.path.join('data','test.csv'))\n",
    "train_df = process_df(train_df, ohe_list)\n",
    "test_df = process_df(test_df, ohe_list)"
   ]
  },
  {
   "cell_type": "code",
   "execution_count": null,
   "metadata": {},
   "outputs": [],
   "source": [
    "train_df.shape"
   ]
  },
  {
   "cell_type": "code",
   "execution_count": null,
   "metadata": {},
   "outputs": [],
   "source": [
    "test_df.shape"
   ]
  },
  {
   "cell_type": "markdown",
   "metadata": {},
   "source": [
    "Initially the shape of the training and test sets do not align because of the One Hot Encoding might not have the same combinations."
   ]
  },
  {
   "cell_type": "code",
   "execution_count": null,
   "metadata": {},
   "outputs": [],
   "source": [
    "cols_train_not_test = [c for c in train_df.columns if c not in test_df.columns and c != 'SalePrice']\n",
    "cols_train_not_test"
   ]
  },
  {
   "cell_type": "code",
   "execution_count": null,
   "metadata": {},
   "outputs": [],
   "source": [
    "cols_test_not_train = [c for c in test_df.columns if c not in train_df.columns]\n",
    "cols_test_not_train"
   ]
  },
  {
   "cell_type": "markdown",
   "metadata": {},
   "source": [
    "Problem identified! We'll need to make sure the training and testing data sets have the same features."
   ]
  },
  {
   "cell_type": "code",
   "execution_count": null,
   "metadata": {},
   "outputs": [],
   "source": [
    "for c in cols_train_not_test:\n",
    "    test_df[c] = 0\n",
    "    \n",
    "for c in cols_test_not_train:\n",
    "    train_df[c] = 0"
   ]
  },
  {
   "cell_type": "code",
   "execution_count": null,
   "metadata": {},
   "outputs": [],
   "source": [
    "test_df.shape"
   ]
  },
  {
   "cell_type": "code",
   "execution_count": null,
   "metadata": {},
   "outputs": [],
   "source": [
    "train_df.shape"
   ]
  },
  {
   "cell_type": "code",
   "execution_count": null,
   "metadata": {},
   "outputs": [],
   "source": [
    "# Which test data columns have NaNs?\n",
    "null_columns = [col for col in test_df.columns if sum(test_df[col].isnull())]\n",
    "null_columns"
   ]
  },
  {
   "cell_type": "code",
   "execution_count": null,
   "metadata": {},
   "outputs": [],
   "source": [
    "# Set these each to 0 because they don't have the features described\n",
    "for c in null_columns:\n",
    "    test_df[c] = test_df[c].fillna(0)"
   ]
  },
  {
   "cell_type": "markdown",
   "metadata": {},
   "source": [
    "<font color='red'>GOTCHA: We ran into the issue of absurd home prices (negative and positive * e^18) because we initially removed the sale price from the dataframe prior to scaling. This is why scaling ALL of your data point the same is very important. Refer to submissions/LinearRegression_submission_1.csv for the actual values.</font>"
   ]
  },
  {
   "cell_type": "code",
   "execution_count": null,
   "metadata": {},
   "outputs": [],
   "source": [
    "# Remove SalePrice from dataframe before fit\n",
    "# fit the remaining features\n",
    "# scale x_train and x_test (transform)\n",
    "# set y_train = SalePrice column\n",
    "\n",
    "y_train = train_df['SalePrice'].copy()\n",
    "train_df2 = train_df.drop('SalePrice', axis=1)\n",
    "\n",
    "\n",
    "X_train = train_df2\n",
    "X_test = test_df\n",
    "\n",
    "#scaler.fit(train_df2)\n",
    "#X_train = scaler.transform(train_df2)\n",
    "#X_test = scaler.transform(test_df)\n"
   ]
  },
  {
   "cell_type": "markdown",
   "metadata": {},
   "source": [
    "# Machine Learning Models!\n",
    "a.k.a. the fun 20% rather than the annoying 80%.\n",
    "\n",
    "Final Submission:\n",
    "CSV File in the form of:\n",
    "*ID, Predicted Sale Price*\n",
    "\n",
    "Since we're predicting the home price and it's a continuous value Linear Regression model might be a good place to start.\n"
   ]
  },
  {
   "cell_type": "code",
   "execution_count": null,
   "metadata": {},
   "outputs": [],
   "source": [
    "from sklearn.linear_model import LinearRegression\n",
    "\n",
    "lr = LinearRegression()\n",
    "lr.fit(X_train, y_train)"
   ]
  },
  {
   "cell_type": "code",
   "execution_count": null,
   "metadata": {},
   "outputs": [],
   "source": [
    "predicted_prices = lr.predict(X_test)"
   ]
  },
  {
   "cell_type": "code",
   "execution_count": null,
   "metadata": {},
   "outputs": [],
   "source": [
    "# Revert log of predicted prices to determine \n",
    "# estimated sale price\n",
    "predicted_prices = np.exp(predicted_prices)"
   ]
  },
  {
   "cell_type": "code",
   "execution_count": null,
   "metadata": {},
   "outputs": [],
   "source": [
    "max(predicted_prices)"
   ]
  },
  {
   "cell_type": "code",
   "execution_count": null,
   "metadata": {},
   "outputs": [],
   "source": [
    "plt.hist(predicted_prices)"
   ]
  },
  {
   "cell_type": "code",
   "execution_count": null,
   "metadata": {},
   "outputs": [],
   "source": [
    "from sklearn.ensemble import RandomForestRegressor\n",
    "\n",
    "rfg = RandomForestRegressor()\n",
    "rfg.fit(X_train, y_train)\n",
    "predicted_prices = rfg.predict(X_test)\n",
    "predicted_prices = np.exp(predicted_prices)"
   ]
  },
  {
   "cell_type": "code",
   "execution_count": null,
   "metadata": {},
   "outputs": [],
   "source": [
    "plt.hist(predicted_prices)"
   ]
  },
  {
   "cell_type": "code",
   "execution_count": null,
   "metadata": {},
   "outputs": [],
   "source": []
  },
  {
   "cell_type": "code",
   "execution_count": null,
   "metadata": {},
   "outputs": [],
   "source": [
    "submission_df = pd.DataFrame({'Id':test_df['Id'], 'SalePrice':predicted_prices})\n",
    "submission_df.to_csv(os.path.join('submissions', 'submission.csv'), index=False)"
   ]
  },
  {
   "cell_type": "code",
   "execution_count": null,
   "metadata": {},
   "outputs": [],
   "source": [
    "from sklearn.model_selection import RandomizedSearchCV\n",
    "\n",
    "n_estimators = [int(x) for x in np.linspace(start = 200, stop = 2000, num = 10)]\n",
    "max_features = ['auto', 'sqrt']\n",
    "max_depth = [int(x) for x in np.linspace(10, 110, num = 11)]\n",
    "max_depth.append(None)\n",
    "min_samples_split = [2, 5, 10]\n",
    "min_samples_leaf = [1, 2, 4]\n",
    "bootstrap = [True, False]\n",
    "\n",
    "random_grid = {'n_estimators': n_estimators,\n",
    "               'max_features': max_features,\n",
    "               'max_depth': max_depth,\n",
    "               'min_samples_split': min_samples_split,\n",
    "               'min_samples_leaf': min_samples_leaf,\n",
    "               'bootstrap': bootstrap}\n",
    "\n",
    "rf_random = RandomizedSearchCV(estimator = rfg, param_distributions = random_grid, n_iter = 100, cv = 3, verbose=2, random_state=42, n_jobs = -1)\n",
    "rf_random.fit(X_train, y_train)"
   ]
  },
  {
   "cell_type": "code",
   "execution_count": null,
   "metadata": {},
   "outputs": [],
   "source": [
    "best_rf = RandomForestRegressor(bootstrap=True, criterion='mse', max_depth=None,\n",
    "           max_features='auto', max_leaf_nodes=None,\n",
    "           min_impurity_decrease=0.0, min_impurity_split=None,\n",
    "           min_samples_leaf=1, min_samples_split=2,\n",
    "           min_weight_fraction_leaf=0.0, n_estimators=10, n_jobs=1,\n",
    "           oob_score=False, random_state=None, verbose=0, warm_start=False)"
   ]
  },
  {
   "cell_type": "code",
   "execution_count": null,
   "metadata": {
    "scrolled": true
   },
   "outputs": [],
   "source": [
    "best_rf.fit(X_train, y_train)"
   ]
  },
  {
   "cell_type": "code",
   "execution_count": null,
   "metadata": {
    "scrolled": true
   },
   "outputs": [],
   "source": [
    "best_rf.predict(X_test)"
   ]
  },
  {
   "cell_type": "code",
   "execution_count": null,
   "metadata": {},
   "outputs": [],
   "source": [
    "predicted_prices = best_rf.predict(X_test)\n",
    "predicted_prices = np.exp(predicted_prices)"
   ]
  },
  {
   "cell_type": "code",
   "execution_count": null,
   "metadata": {},
   "outputs": [],
   "source": [
    "submission_df = pd.DataFrame({'Id':test_df['Id'], 'SalePrice':predicted_prices})\n",
    "submission_df.to_csv(os.path.join('submissions', 'submission.csv'), index=False)"
   ]
  },
  {
   "cell_type": "code",
   "execution_count": null,
   "metadata": {},
   "outputs": [],
   "source": [
    "import xgboost as xgb\n",
    "\n",
    "dtrain = xgb.DMatrix(X_train)\n",
    "dtest = xgb.DMatrix(X_test)\n",
    "#xgb_model = xgb.XGBRegressor(silent=False,\n",
    "#                            )"
   ]
  },
  {
   "cell_type": "code",
   "execution_count": null,
   "metadata": {},
   "outputs": [],
   "source": []
  }
 ],
 "metadata": {
  "kernelspec": {
   "display_name": "Python 3",
   "language": "python",
   "name": "python3"
  },
  "language_info": {
   "codemirror_mode": {
    "name": "ipython",
    "version": 3
   },
   "file_extension": ".py",
   "mimetype": "text/x-python",
   "name": "python",
   "nbconvert_exporter": "python",
   "pygments_lexer": "ipython3",
   "version": "3.7.0"
  }
 },
 "nbformat": 4,
 "nbformat_minor": 2
}
